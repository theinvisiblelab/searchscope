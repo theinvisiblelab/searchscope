{
 "cells": [
  {
   "cell_type": "code",
   "execution_count": 5,
   "id": "20bd9d5c-74a9-4674-85de-14e8dce5c4dc",
   "metadata": {},
   "outputs": [],
   "source": [
    "import aisuite as ai\n",
    "client = ai.Client()"
   ]
  },
  {
   "cell_type": "code",
   "execution_count": 6,
   "id": "37f89c3a-c48c-4b71-b7c1-296270bbaf64",
   "metadata": {},
   "outputs": [],
   "source": [
    "# Predefined categories\n",
    "categories = [\n",
    "    \"Business & Finance\",\n",
    "    \"Politics & Government\",\n",
    "    \"Entertainment (TV, Movies, Music)\",\n",
    "    \"Sports\",\n",
    "    \"Technology & Gadgets\",\n",
    "    \"Health & Wellness\",\n",
    "    \"Science & Research\",\n",
    "    \"Education & Learning\",\n",
    "    \"Travel & Tourism\",\n",
    "    \"Food & Dining\",\n",
    "    \"Fashion & Beauty\",\n",
    "    \"Culture & Arts\",\n",
    "    \"History & Heritage\",\n",
    "    \"Religion & Spirituality\",\n",
    "    \"Social Issues & Activism\",\n",
    "    \"Crime & Law\",\n",
    "    \"Economics & Trade\",\n",
    "    \"Environment & Nature\",\n",
    "    \"Real Estate & Housing\",\n",
    "    \"Automotive & Transportation\",\n",
    "    \"Gaming\",\n",
    "    \"Lifestyle & Hobbies\",\n",
    "    \"Parenting & Family\",\n",
    "    \"Relationships & Dating\",\n",
    "    \"Media & Communications\",\n",
    "    \"Internet & Social Media\",\n",
    "    \"Celebrities & Influencers\",\n",
    "    \"Philosophy & Beliefs\",\n",
    "    \"Memes & Internet Culture\",\n",
    "    \"Festivals & Holidays\",\n",
    "    \"Do-It-Yourself (DIY) & Crafts\",\n",
    "    \"Pets & Animals\",\n",
    "    \"Agriculture & Farming\",\n",
    "    \"Work & Career\"\n",
    "]\n",
    "\n",
    "# Function to classify text\n",
    "def classify_text(text):\n",
    "    messages = [\n",
    "        {\"role\": \"system\", \"content\": \"Classify the input text into one of the following categories and only output the category name: \" + \", \".join(categories)},\n",
    "        {\"role\": \"user\", \"content\": text},\n",
    "    ]\n",
    "\n",
    "    response = client.chat.completions.create(\n",
    "        model=\"ollama:llama3.2\",\n",
    "        messages=messages,\n",
    "        temperature=0.75\n",
    "    )\n",
    "\n",
    "    return response.choices[0].message.content.strip()"
   ]
  },
  {
   "cell_type": "code",
   "execution_count": null,
   "id": "b3b5b13b-9230-4a3d-b438-8e6d5094d8ac",
   "metadata": {},
   "outputs": [
    {
     "data": {
      "text/plain": [
       "'Politics & Government'"
      ]
     },
     "execution_count": 7,
     "metadata": {},
     "output_type": "execute_result"
    }
   ],
   "source": [
    "classify_text(\"Donald Trump is the new president of the US.\")"
   ]
  },
  {
   "cell_type": "code",
   "execution_count": 8,
   "id": "aea6b77b-23f0-4df8-b73c-875e238ba211",
   "metadata": {},
   "outputs": [
    {
     "data": {
      "text/plain": [
       "'Entertainment (TV, Movies, Music)'"
      ]
     },
     "execution_count": 8,
     "metadata": {},
     "output_type": "execute_result"
    }
   ],
   "source": [
    "classify_text(\"Taylor Swift had the highest-grossing music tour.\")"
   ]
  },
  {
   "cell_type": "code",
   "execution_count": null,
   "id": "266e598d",
   "metadata": {},
   "outputs": [],
   "source": []
  }
 ],
 "metadata": {
  "kernelspec": {
   "display_name": "aitests",
   "language": "python",
   "name": "python3"
  },
  "language_info": {
   "codemirror_mode": {
    "name": "ipython",
    "version": 3
   },
   "file_extension": ".py",
   "mimetype": "text/x-python",
   "name": "python",
   "nbconvert_exporter": "python",
   "pygments_lexer": "ipython3",
   "version": "3.10.16"
  }
 },
 "nbformat": 4,
 "nbformat_minor": 5
}
